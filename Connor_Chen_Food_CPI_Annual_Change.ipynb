{
  "cells": [
    {
      "cell_type": "markdown",
      "metadata": {
        "id": "lawMjxB9o3MI"
      },
      "source": [
        "# **Food Consumer Price Index(CPI) Annual Change**\n",
        "Topic: Annual Percent Change — Eggs vs Pork, Fresh Vegetables, Fresh Fruit, Beef & Veal (2023–2026)\n"
      ]
    },
    {
      "cell_type": "markdown",
      "metadata": {
        "id": "UcRzb_taqPR9"
      },
      "source": [
        "#Introduction\n",
        "\n",
        "In recent years, egg prices have climbed up so much that grabbing a simple breakfast feels like splurging on fine dining. It’s especially noticeable when you need eggs for something specific, like baking a birthday cake—suddenly the cake feels like it costs double.\n",
        "\n",
        "\n",
        "This notebook aim to explore and visulize how do egg price forecasts compare to overall food CPI forecasts between 2025–2026 and annual percent change between 2023-2024, and do eggs exhibit more volatility than other general food (Pork, Fresh Vegetables, Fresh Fruit, Beef & Veal) prices?\n",
        "\n",
        "The dataset comes from the U.S. Department of Agriculture’s Food Price Outlook and the Bureau of Labor Statistics’ CPI program. These agencies collect monthly price data from grocery stores nationwide, and each row in the dataset represents one food category—such as eggs, pork, or fruit—showing how its price changed over time.\n",
        "\n",
        "The dataset was chosen because food prices are both highly relevant and easy to connect to everyday life, making the analysis more accessible.\n",
        "\n",
        "\n",
        "Eggs in particular since their price swings have been unusually high compared to other foods, often making headlines about inflation.\n",
        "\n",
        "\n",
        "This dataset also provides everyday real life connection made it interesting to explore.\n",
        "\n",
        "I developed this question after noticing that eggs showed unusually large price swings compared to other foods during my initial data exploration. This pattern made the dataset especially well-suited for examining price volatility and helping the City understand uneven impacts of inflation."
      ]
    },
    {
      "cell_type": "markdown",
      "metadata": {
        "id": "AiLD_urjEwRi"
      },
      "source": [
        "#Limitations\n",
        "\n",
        "While the dataset is useful for exploring big-picture price trends, it is hard to use it to answer questions out of its scope:\n",
        "\n",
        "\n",
        "*   Did egg prices rise more in Massachusetts than in California?\n",
        "*   Did apples rise faster than bananas in the fresh fruit category?\n",
        "*   What happened to egg prices during the week of Easter or Thanksgiving?\n",
        "\n",
        "More generally, the dataset is limited to national, annual averages—it does not provide weekly or state-level breakdowns, so it cannot explain local or short-term price differences.\n",
        "\n"
      ]
    },
    {
      "cell_type": "code",
      "execution_count": null,
      "metadata": {
        "colab": {
          "base_uri": "https://localhost:8080/"
        },
        "id": "0gsjRUCtRGC_",
        "outputId": "52a8ac37-5371-4f2c-e37d-ada8a75f83cc",
        "vscode": {
          "languageId": "r"
        }
      },
      "outputs": [
        {
          "name": "stderr",
          "output_type": "stream",
          "text": [
            "── \u001b[1mAttaching core tidyverse packages\u001b[22m ──────────────────────── tidyverse 2.0.0 ──\n",
            "\u001b[32m✔\u001b[39m \u001b[34mdplyr    \u001b[39m 1.1.4     \u001b[32m✔\u001b[39m \u001b[34mreadr    \u001b[39m 2.1.5\n",
            "\u001b[32m✔\u001b[39m \u001b[34mforcats  \u001b[39m 1.0.0     \u001b[32m✔\u001b[39m \u001b[34mstringr  \u001b[39m 1.5.2\n",
            "\u001b[32m✔\u001b[39m \u001b[34mggplot2  \u001b[39m 4.0.0     \u001b[32m✔\u001b[39m \u001b[34mtibble   \u001b[39m 3.3.0\n",
            "\u001b[32m✔\u001b[39m \u001b[34mlubridate\u001b[39m 1.9.4     \u001b[32m✔\u001b[39m \u001b[34mtidyr    \u001b[39m 1.3.1\n",
            "\u001b[32m✔\u001b[39m \u001b[34mpurrr    \u001b[39m 1.1.0     \n",
            "── \u001b[1mConflicts\u001b[22m ────────────────────────────────────────── tidyverse_conflicts() ──\n",
            "\u001b[31m✖\u001b[39m \u001b[34mdplyr\u001b[39m::\u001b[32mfilter()\u001b[39m masks \u001b[34mstats\u001b[39m::filter()\n",
            "\u001b[31m✖\u001b[39m \u001b[34mdplyr\u001b[39m::\u001b[32mlag()\u001b[39m    masks \u001b[34mstats\u001b[39m::lag()\n",
            "\u001b[36mℹ\u001b[39m Use the conflicted package (\u001b[3m\u001b[34m<http://conflicted.r-lib.org/>\u001b[39m\u001b[23m) to force all conflicts to become errors\n"
          ]
        }
      ],
      "source": [
        "#library block\n",
        "library(tidyverse)"
      ]
    },
    {
      "cell_type": "markdown",
      "metadata": {
        "id": "hMk0RHU8JeCc"
      },
      "source": [
        "###Load the Dataset  \n",
        "I start by reading in the CSV file that contains the food CPI data. This gives me access to the percent change values for eggs and other food categories. Confirming the number of rows and columns helps me understand the size and structure of the dataset.\n"
      ]
    },
    {
      "cell_type": "code",
      "execution_count": null,
      "metadata": {
        "colab": {
          "base_uri": "https://localhost:8080/",
          "height": 2150
        },
        "id": "TzdX2bK0cjga",
        "outputId": "0df45777-1635-48a6-dbc1-1e9f892152c5",
        "vscode": {
          "languageId": "r"
        }
      },
      "outputs": [
        {
          "name": "stderr",
          "output_type": "stream",
          "text": [
            "\u001b[1mRows: \u001b[22m\u001b[34m286\u001b[39m \u001b[1mColumns: \u001b[22m\u001b[34m8\u001b[39m\n",
            "\u001b[36m──\u001b[39m \u001b[1mColumn specification\u001b[22m \u001b[36m────────────────────────────────────────────────────────\u001b[39m\n",
            "\u001b[1mDelimiter:\u001b[22m \",\"\n",
            "\u001b[31mchr\u001b[39m (7): Top-level, Aggregate, Mid-level, Low-level, Disaggregate, Attribute...\n",
            "\u001b[32mdbl\u001b[39m (1): Value\n",
            "\n",
            "\u001b[36mℹ\u001b[39m Use `spec()` to retrieve the full column specification for this data.\n",
            "\u001b[36mℹ\u001b[39m Specify the column types or set `show_col_types = FALSE` to quiet this message.\n"
          ]
        },
        {
          "data": {
            "text/html": [
              "<table class=\"dataframe\">\n",
              "<caption>A spec_tbl_df: 286 × 8</caption>\n",
              "<thead>\n",
              "\t<tr><th scope=col>Top-level</th><th scope=col>Aggregate</th><th scope=col>Mid-level</th><th scope=col>Low-level</th><th scope=col>Disaggregate</th><th scope=col>Attribute</th><th scope=col>Unit</th><th scope=col>Value</th></tr>\n",
              "\t<tr><th scope=col>&lt;chr&gt;</th><th scope=col>&lt;chr&gt;</th><th scope=col>&lt;chr&gt;</th><th scope=col>&lt;chr&gt;</th><th scope=col>&lt;chr&gt;</th><th scope=col>&lt;chr&gt;</th><th scope=col>&lt;chr&gt;</th><th scope=col>&lt;dbl&gt;</th></tr>\n",
              "</thead>\n",
              "<tbody>\n",
              "\t<tr><td>All food</td><td>NA                 </td><td>NA</td><td>NA</td><td>NA</td><td>Relative importance                    </td><td>Percent       </td><td>100.0</td></tr>\n",
              "\t<tr><td>All food</td><td>NA                 </td><td>NA</td><td>NA</td><td>NA</td><td>Month-to-month June 2025 to July 2025  </td><td>Percent change</td><td>  0.2</td></tr>\n",
              "\t<tr><td>All food</td><td>NA                 </td><td>NA</td><td>NA</td><td>NA</td><td>Year-over-year July 2024 to July 2025  </td><td>Percent change</td><td>  2.9</td></tr>\n",
              "\t<tr><td>All food</td><td>NA                 </td><td>NA</td><td>NA</td><td>NA</td><td>Year-to-date avg. 2025 to avg. 2024    </td><td>Percent change</td><td>  2.3</td></tr>\n",
              "\t<tr><td>All food</td><td>NA                 </td><td>NA</td><td>NA</td><td>NA</td><td>Annual 2023                            </td><td>Percent change</td><td>  5.8</td></tr>\n",
              "\t<tr><td>All food</td><td>NA                 </td><td>NA</td><td>NA</td><td>NA</td><td>Annual 2024                            </td><td>Percent change</td><td>  2.3</td></tr>\n",
              "\t<tr><td>All food</td><td>NA                 </td><td>NA</td><td>NA</td><td>NA</td><td>20-year historical average             </td><td>Percent change</td><td>  2.9</td></tr>\n",
              "\t<tr><td>All food</td><td>NA                 </td><td>NA</td><td>NA</td><td>NA</td><td>Lower bound of prediction interval 2025</td><td>Percent change</td><td>  2.3</td></tr>\n",
              "\t<tr><td>All food</td><td>NA                 </td><td>NA</td><td>NA</td><td>NA</td><td>Mid point of prediction interval 2025  </td><td>Percent change</td><td>  2.9</td></tr>\n",
              "\t<tr><td>All food</td><td>NA                 </td><td>NA</td><td>NA</td><td>NA</td><td>Upper bound of prediction interval 2025</td><td>Percent change</td><td>  3.4</td></tr>\n",
              "\t<tr><td>All food</td><td>NA                 </td><td>NA</td><td>NA</td><td>NA</td><td>Lower bound of prediction interval 2026</td><td>Percent change</td><td> -2.9</td></tr>\n",
              "\t<tr><td>All food</td><td>NA                 </td><td>NA</td><td>NA</td><td>NA</td><td>Mid point of prediction interval 2026  </td><td>Percent change</td><td>  2.2</td></tr>\n",
              "\t<tr><td>All food</td><td>NA                 </td><td>NA</td><td>NA</td><td>NA</td><td>Upper bound of prediction interval 2026</td><td>Percent change</td><td>  7.5</td></tr>\n",
              "\t<tr><td>All food</td><td>Food away from home</td><td>NA</td><td>NA</td><td>NA</td><td>Relative importance                    </td><td>Percent       </td><td> 41.4</td></tr>\n",
              "\t<tr><td>All food</td><td>Food away from home</td><td>NA</td><td>NA</td><td>NA</td><td>Month-to-month June 2025 to July 2025  </td><td>Percent change</td><td>  0.3</td></tr>\n",
              "\t<tr><td>All food</td><td>Food away from home</td><td>NA</td><td>NA</td><td>NA</td><td>Year-over-year July 2024 to July 2025  </td><td>Percent change</td><td>  3.9</td></tr>\n",
              "\t<tr><td>All food</td><td>Food away from home</td><td>NA</td><td>NA</td><td>NA</td><td>Year-to-date avg. 2025 to avg. 2024    </td><td>Percent change</td><td>  3.0</td></tr>\n",
              "\t<tr><td>All food</td><td>Food away from home</td><td>NA</td><td>NA</td><td>NA</td><td>Annual 2023                            </td><td>Percent change</td><td>  7.1</td></tr>\n",
              "\t<tr><td>All food</td><td>Food away from home</td><td>NA</td><td>NA</td><td>NA</td><td>Annual 2024                            </td><td>Percent change</td><td>  4.1</td></tr>\n",
              "\t<tr><td>All food</td><td>Food away from home</td><td>NA</td><td>NA</td><td>NA</td><td>20-year historical average             </td><td>Percent change</td><td>  3.5</td></tr>\n",
              "\t<tr><td>All food</td><td>Food away from home</td><td>NA</td><td>NA</td><td>NA</td><td>Lower bound of prediction interval 2025</td><td>Percent change</td><td>  3.5</td></tr>\n",
              "\t<tr><td>All food</td><td>Food away from home</td><td>NA</td><td>NA</td><td>NA</td><td>Mid point of prediction interval 2025  </td><td>Percent change</td><td>  3.9</td></tr>\n",
              "\t<tr><td>All food</td><td>Food away from home</td><td>NA</td><td>NA</td><td>NA</td><td>Upper bound of prediction interval 2025</td><td>Percent change</td><td>  4.2</td></tr>\n",
              "\t<tr><td>All food</td><td>Food away from home</td><td>NA</td><td>NA</td><td>NA</td><td>Lower bound of prediction interval 2026</td><td>Percent change</td><td>  0.5</td></tr>\n",
              "\t<tr><td>All food</td><td>Food away from home</td><td>NA</td><td>NA</td><td>NA</td><td>Mid point of prediction interval 2026  </td><td>Percent change</td><td>  3.3</td></tr>\n",
              "\t<tr><td>All food</td><td>Food away from home</td><td>NA</td><td>NA</td><td>NA</td><td>Upper bound of prediction interval 2026</td><td>Percent change</td><td>  6.1</td></tr>\n",
              "\t<tr><td>All food</td><td>Food at home       </td><td>NA</td><td>NA</td><td>NA</td><td>Relative importance                    </td><td>Percent       </td><td> 58.6</td></tr>\n",
              "\t<tr><td>All food</td><td>Food at home       </td><td>NA</td><td>NA</td><td>NA</td><td>Month-to-month June 2025 to July 2025  </td><td>Percent change</td><td>  0.1</td></tr>\n",
              "\t<tr><td>All food</td><td>Food at home       </td><td>NA</td><td>NA</td><td>NA</td><td>Year-over-year July 2024 to July 2025  </td><td>Percent change</td><td>  2.2</td></tr>\n",
              "\t<tr><td>All food</td><td>Food at home       </td><td>NA</td><td>NA</td><td>NA</td><td>Year-to-date avg. 2025 to avg. 2024    </td><td>Percent change</td><td>  1.9</td></tr>\n",
              "\t<tr><td>⋮</td><td>⋮</td><td>⋮</td><td>⋮</td><td>⋮</td><td>⋮</td><td>⋮</td><td>⋮</td></tr>\n",
              "\t<tr><td>All food</td><td>Food at home</td><td>Cereals and bakery products</td><td>NA</td><td>NA</td><td>Upper bound of prediction interval 2025</td><td>Percent change</td><td> 1.9</td></tr>\n",
              "\t<tr><td>All food</td><td>Food at home</td><td>Cereals and bakery products</td><td>NA</td><td>NA</td><td>Lower bound of prediction interval 2026</td><td>Percent change</td><td>-6.9</td></tr>\n",
              "\t<tr><td>All food</td><td>Food at home</td><td>Cereals and bakery products</td><td>NA</td><td>NA</td><td>Mid point of prediction interval 2026  </td><td>Percent change</td><td> 0.8</td></tr>\n",
              "\t<tr><td>All food</td><td>Food at home</td><td>Cereals and bakery products</td><td>NA</td><td>NA</td><td>Upper bound of prediction interval 2026</td><td>Percent change</td><td> 9.5</td></tr>\n",
              "\t<tr><td>All food</td><td>Food at home</td><td>Nonalcoholic beverages     </td><td>NA</td><td>NA</td><td>Relative importance                    </td><td>Percent       </td><td> 6.7</td></tr>\n",
              "\t<tr><td>All food</td><td>Food at home</td><td>Nonalcoholic beverages     </td><td>NA</td><td>NA</td><td>Month-to-month June 2025 to July 2025  </td><td>Percent change</td><td>-0.5</td></tr>\n",
              "\t<tr><td>All food</td><td>Food at home</td><td>Nonalcoholic beverages     </td><td>NA</td><td>NA</td><td>Year-over-year July 2024 to July 2025  </td><td>Percent change</td><td> 3.6</td></tr>\n",
              "\t<tr><td>All food</td><td>Food at home</td><td>Nonalcoholic beverages     </td><td>NA</td><td>NA</td><td>Year-to-date avg. 2025 to avg. 2024    </td><td>Percent change</td><td> 3.0</td></tr>\n",
              "\t<tr><td>All food</td><td>Food at home</td><td>Nonalcoholic beverages     </td><td>NA</td><td>NA</td><td>Annual 2023                            </td><td>Percent change</td><td> 7.0</td></tr>\n",
              "\t<tr><td>All food</td><td>Food at home</td><td>Nonalcoholic beverages     </td><td>NA</td><td>NA</td><td>Annual 2024                            </td><td>Percent change</td><td> 2.0</td></tr>\n",
              "\t<tr><td>All food</td><td>Food at home</td><td>Nonalcoholic beverages     </td><td>NA</td><td>NA</td><td>20-year historical average             </td><td>Percent change</td><td> 2.3</td></tr>\n",
              "\t<tr><td>All food</td><td>Food at home</td><td>Nonalcoholic beverages     </td><td>NA</td><td>NA</td><td>Lower bound of prediction interval 2025</td><td>Percent change</td><td> 2.6</td></tr>\n",
              "\t<tr><td>All food</td><td>Food at home</td><td>Nonalcoholic beverages     </td><td>NA</td><td>NA</td><td>Mid point of prediction interval 2025  </td><td>Percent change</td><td> 3.6</td></tr>\n",
              "\t<tr><td>All food</td><td>Food at home</td><td>Nonalcoholic beverages     </td><td>NA</td><td>NA</td><td>Upper bound of prediction interval 2025</td><td>Percent change</td><td> 4.6</td></tr>\n",
              "\t<tr><td>All food</td><td>Food at home</td><td>Nonalcoholic beverages     </td><td>NA</td><td>NA</td><td>Lower bound of prediction interval 2026</td><td>Percent change</td><td>-3.6</td></tr>\n",
              "\t<tr><td>All food</td><td>Food at home</td><td>Nonalcoholic beverages     </td><td>NA</td><td>NA</td><td>Mid point of prediction interval 2026  </td><td>Percent change</td><td> 2.4</td></tr>\n",
              "\t<tr><td>All food</td><td>Food at home</td><td>Nonalcoholic beverages     </td><td>NA</td><td>NA</td><td>Upper bound of prediction interval 2026</td><td>Percent change</td><td> 8.8</td></tr>\n",
              "\t<tr><td>All food</td><td>Food at home</td><td>Other foods                </td><td>NA</td><td>NA</td><td>Relative importance                    </td><td>Percent       </td><td>12.8</td></tr>\n",
              "\t<tr><td>All food</td><td>Food at home</td><td>Other foods                </td><td>NA</td><td>NA</td><td>Month-to-month June 2025 to July 2025  </td><td>Percent change</td><td>-0.2</td></tr>\n",
              "\t<tr><td>All food</td><td>Food at home</td><td>Other foods                </td><td>NA</td><td>NA</td><td>Year-over-year July 2024 to July 2025  </td><td>Percent change</td><td> 1.0</td></tr>\n",
              "\t<tr><td>All food</td><td>Food at home</td><td>Other foods                </td><td>NA</td><td>NA</td><td>Year-to-date avg. 2025 to avg. 2024    </td><td>Percent change</td><td> 0.7</td></tr>\n",
              "\t<tr><td>All food</td><td>Food at home</td><td>Other foods                </td><td>NA</td><td>NA</td><td>Annual 2023                            </td><td>Percent change</td><td> 6.6</td></tr>\n",
              "\t<tr><td>All food</td><td>Food at home</td><td>Other foods                </td><td>NA</td><td>NA</td><td>Annual 2024                            </td><td>Percent change</td><td> 0.6</td></tr>\n",
              "\t<tr><td>All food</td><td>Food at home</td><td>Other foods                </td><td>NA</td><td>NA</td><td>20-year historical average             </td><td>Percent change</td><td> 2.4</td></tr>\n",
              "\t<tr><td>All food</td><td>Food at home</td><td>Other foods                </td><td>NA</td><td>NA</td><td>Lower bound of prediction interval 2025</td><td>Percent change</td><td> 0.3</td></tr>\n",
              "\t<tr><td>All food</td><td>Food at home</td><td>Other foods                </td><td>NA</td><td>NA</td><td>Mid point of prediction interval 2025  </td><td>Percent change</td><td> 1.2</td></tr>\n",
              "\t<tr><td>All food</td><td>Food at home</td><td>Other foods                </td><td>NA</td><td>NA</td><td>Upper bound of prediction interval 2025</td><td>Percent change</td><td> 2.2</td></tr>\n",
              "\t<tr><td>All food</td><td>Food at home</td><td>Other foods                </td><td>NA</td><td>NA</td><td>Lower bound of prediction interval 2026</td><td>Percent change</td><td>-4.8</td></tr>\n",
              "\t<tr><td>All food</td><td>Food at home</td><td>Other foods                </td><td>NA</td><td>NA</td><td>Mid point of prediction interval 2026  </td><td>Percent change</td><td> 1.3</td></tr>\n",
              "\t<tr><td>All food</td><td>Food at home</td><td>Other foods                </td><td>NA</td><td>NA</td><td>Upper bound of prediction interval 2026</td><td>Percent change</td><td> 8.0</td></tr>\n",
              "</tbody>\n",
              "</table>\n"
            ],
            "text/latex": [
              "A spec\\_tbl\\_df: 286 × 8\n",
              "\\begin{tabular}{llllllll}\n",
              " Top-level & Aggregate & Mid-level & Low-level & Disaggregate & Attribute & Unit & Value\\\\\n",
              " <chr> & <chr> & <chr> & <chr> & <chr> & <chr> & <chr> & <dbl>\\\\\n",
              "\\hline\n",
              "\t All food & NA                  & NA & NA & NA & Relative importance                     & Percent        & 100.0\\\\\n",
              "\t All food & NA                  & NA & NA & NA & Month-to-month June 2025 to July 2025   & Percent change &   0.2\\\\\n",
              "\t All food & NA                  & NA & NA & NA & Year-over-year July 2024 to July 2025   & Percent change &   2.9\\\\\n",
              "\t All food & NA                  & NA & NA & NA & Year-to-date avg. 2025 to avg. 2024     & Percent change &   2.3\\\\\n",
              "\t All food & NA                  & NA & NA & NA & Annual 2023                             & Percent change &   5.8\\\\\n",
              "\t All food & NA                  & NA & NA & NA & Annual 2024                             & Percent change &   2.3\\\\\n",
              "\t All food & NA                  & NA & NA & NA & 20-year historical average              & Percent change &   2.9\\\\\n",
              "\t All food & NA                  & NA & NA & NA & Lower bound of prediction interval 2025 & Percent change &   2.3\\\\\n",
              "\t All food & NA                  & NA & NA & NA & Mid point of prediction interval 2025   & Percent change &   2.9\\\\\n",
              "\t All food & NA                  & NA & NA & NA & Upper bound of prediction interval 2025 & Percent change &   3.4\\\\\n",
              "\t All food & NA                  & NA & NA & NA & Lower bound of prediction interval 2026 & Percent change &  -2.9\\\\\n",
              "\t All food & NA                  & NA & NA & NA & Mid point of prediction interval 2026   & Percent change &   2.2\\\\\n",
              "\t All food & NA                  & NA & NA & NA & Upper bound of prediction interval 2026 & Percent change &   7.5\\\\\n",
              "\t All food & Food away from home & NA & NA & NA & Relative importance                     & Percent        &  41.4\\\\\n",
              "\t All food & Food away from home & NA & NA & NA & Month-to-month June 2025 to July 2025   & Percent change &   0.3\\\\\n",
              "\t All food & Food away from home & NA & NA & NA & Year-over-year July 2024 to July 2025   & Percent change &   3.9\\\\\n",
              "\t All food & Food away from home & NA & NA & NA & Year-to-date avg. 2025 to avg. 2024     & Percent change &   3.0\\\\\n",
              "\t All food & Food away from home & NA & NA & NA & Annual 2023                             & Percent change &   7.1\\\\\n",
              "\t All food & Food away from home & NA & NA & NA & Annual 2024                             & Percent change &   4.1\\\\\n",
              "\t All food & Food away from home & NA & NA & NA & 20-year historical average              & Percent change &   3.5\\\\\n",
              "\t All food & Food away from home & NA & NA & NA & Lower bound of prediction interval 2025 & Percent change &   3.5\\\\\n",
              "\t All food & Food away from home & NA & NA & NA & Mid point of prediction interval 2025   & Percent change &   3.9\\\\\n",
              "\t All food & Food away from home & NA & NA & NA & Upper bound of prediction interval 2025 & Percent change &   4.2\\\\\n",
              "\t All food & Food away from home & NA & NA & NA & Lower bound of prediction interval 2026 & Percent change &   0.5\\\\\n",
              "\t All food & Food away from home & NA & NA & NA & Mid point of prediction interval 2026   & Percent change &   3.3\\\\\n",
              "\t All food & Food away from home & NA & NA & NA & Upper bound of prediction interval 2026 & Percent change &   6.1\\\\\n",
              "\t All food & Food at home        & NA & NA & NA & Relative importance                     & Percent        &  58.6\\\\\n",
              "\t All food & Food at home        & NA & NA & NA & Month-to-month June 2025 to July 2025   & Percent change &   0.1\\\\\n",
              "\t All food & Food at home        & NA & NA & NA & Year-over-year July 2024 to July 2025   & Percent change &   2.2\\\\\n",
              "\t All food & Food at home        & NA & NA & NA & Year-to-date avg. 2025 to avg. 2024     & Percent change &   1.9\\\\\n",
              "\t ⋮ & ⋮ & ⋮ & ⋮ & ⋮ & ⋮ & ⋮ & ⋮\\\\\n",
              "\t All food & Food at home & Cereals and bakery products & NA & NA & Upper bound of prediction interval 2025 & Percent change &  1.9\\\\\n",
              "\t All food & Food at home & Cereals and bakery products & NA & NA & Lower bound of prediction interval 2026 & Percent change & -6.9\\\\\n",
              "\t All food & Food at home & Cereals and bakery products & NA & NA & Mid point of prediction interval 2026   & Percent change &  0.8\\\\\n",
              "\t All food & Food at home & Cereals and bakery products & NA & NA & Upper bound of prediction interval 2026 & Percent change &  9.5\\\\\n",
              "\t All food & Food at home & Nonalcoholic beverages      & NA & NA & Relative importance                     & Percent        &  6.7\\\\\n",
              "\t All food & Food at home & Nonalcoholic beverages      & NA & NA & Month-to-month June 2025 to July 2025   & Percent change & -0.5\\\\\n",
              "\t All food & Food at home & Nonalcoholic beverages      & NA & NA & Year-over-year July 2024 to July 2025   & Percent change &  3.6\\\\\n",
              "\t All food & Food at home & Nonalcoholic beverages      & NA & NA & Year-to-date avg. 2025 to avg. 2024     & Percent change &  3.0\\\\\n",
              "\t All food & Food at home & Nonalcoholic beverages      & NA & NA & Annual 2023                             & Percent change &  7.0\\\\\n",
              "\t All food & Food at home & Nonalcoholic beverages      & NA & NA & Annual 2024                             & Percent change &  2.0\\\\\n",
              "\t All food & Food at home & Nonalcoholic beverages      & NA & NA & 20-year historical average              & Percent change &  2.3\\\\\n",
              "\t All food & Food at home & Nonalcoholic beverages      & NA & NA & Lower bound of prediction interval 2025 & Percent change &  2.6\\\\\n",
              "\t All food & Food at home & Nonalcoholic beverages      & NA & NA & Mid point of prediction interval 2025   & Percent change &  3.6\\\\\n",
              "\t All food & Food at home & Nonalcoholic beverages      & NA & NA & Upper bound of prediction interval 2025 & Percent change &  4.6\\\\\n",
              "\t All food & Food at home & Nonalcoholic beverages      & NA & NA & Lower bound of prediction interval 2026 & Percent change & -3.6\\\\\n",
              "\t All food & Food at home & Nonalcoholic beverages      & NA & NA & Mid point of prediction interval 2026   & Percent change &  2.4\\\\\n",
              "\t All food & Food at home & Nonalcoholic beverages      & NA & NA & Upper bound of prediction interval 2026 & Percent change &  8.8\\\\\n",
              "\t All food & Food at home & Other foods                 & NA & NA & Relative importance                     & Percent        & 12.8\\\\\n",
              "\t All food & Food at home & Other foods                 & NA & NA & Month-to-month June 2025 to July 2025   & Percent change & -0.2\\\\\n",
              "\t All food & Food at home & Other foods                 & NA & NA & Year-over-year July 2024 to July 2025   & Percent change &  1.0\\\\\n",
              "\t All food & Food at home & Other foods                 & NA & NA & Year-to-date avg. 2025 to avg. 2024     & Percent change &  0.7\\\\\n",
              "\t All food & Food at home & Other foods                 & NA & NA & Annual 2023                             & Percent change &  6.6\\\\\n",
              "\t All food & Food at home & Other foods                 & NA & NA & Annual 2024                             & Percent change &  0.6\\\\\n",
              "\t All food & Food at home & Other foods                 & NA & NA & 20-year historical average              & Percent change &  2.4\\\\\n",
              "\t All food & Food at home & Other foods                 & NA & NA & Lower bound of prediction interval 2025 & Percent change &  0.3\\\\\n",
              "\t All food & Food at home & Other foods                 & NA & NA & Mid point of prediction interval 2025   & Percent change &  1.2\\\\\n",
              "\t All food & Food at home & Other foods                 & NA & NA & Upper bound of prediction interval 2025 & Percent change &  2.2\\\\\n",
              "\t All food & Food at home & Other foods                 & NA & NA & Lower bound of prediction interval 2026 & Percent change & -4.8\\\\\n",
              "\t All food & Food at home & Other foods                 & NA & NA & Mid point of prediction interval 2026   & Percent change &  1.3\\\\\n",
              "\t All food & Food at home & Other foods                 & NA & NA & Upper bound of prediction interval 2026 & Percent change &  8.0\\\\\n",
              "\\end{tabular}\n"
            ],
            "text/markdown": [
              "\n",
              "A spec_tbl_df: 286 × 8\n",
              "\n",
              "| Top-level &lt;chr&gt; | Aggregate &lt;chr&gt; | Mid-level &lt;chr&gt; | Low-level &lt;chr&gt; | Disaggregate &lt;chr&gt; | Attribute &lt;chr&gt; | Unit &lt;chr&gt; | Value &lt;dbl&gt; |\n",
              "|---|---|---|---|---|---|---|---|\n",
              "| All food | NA                  | NA | NA | NA | Relative importance                     | Percent        | 100.0 |\n",
              "| All food | NA                  | NA | NA | NA | Month-to-month June 2025 to July 2025   | Percent change |   0.2 |\n",
              "| All food | NA                  | NA | NA | NA | Year-over-year July 2024 to July 2025   | Percent change |   2.9 |\n",
              "| All food | NA                  | NA | NA | NA | Year-to-date avg. 2025 to avg. 2024     | Percent change |   2.3 |\n",
              "| All food | NA                  | NA | NA | NA | Annual 2023                             | Percent change |   5.8 |\n",
              "| All food | NA                  | NA | NA | NA | Annual 2024                             | Percent change |   2.3 |\n",
              "| All food | NA                  | NA | NA | NA | 20-year historical average              | Percent change |   2.9 |\n",
              "| All food | NA                  | NA | NA | NA | Lower bound of prediction interval 2025 | Percent change |   2.3 |\n",
              "| All food | NA                  | NA | NA | NA | Mid point of prediction interval 2025   | Percent change |   2.9 |\n",
              "| All food | NA                  | NA | NA | NA | Upper bound of prediction interval 2025 | Percent change |   3.4 |\n",
              "| All food | NA                  | NA | NA | NA | Lower bound of prediction interval 2026 | Percent change |  -2.9 |\n",
              "| All food | NA                  | NA | NA | NA | Mid point of prediction interval 2026   | Percent change |   2.2 |\n",
              "| All food | NA                  | NA | NA | NA | Upper bound of prediction interval 2026 | Percent change |   7.5 |\n",
              "| All food | Food away from home | NA | NA | NA | Relative importance                     | Percent        |  41.4 |\n",
              "| All food | Food away from home | NA | NA | NA | Month-to-month June 2025 to July 2025   | Percent change |   0.3 |\n",
              "| All food | Food away from home | NA | NA | NA | Year-over-year July 2024 to July 2025   | Percent change |   3.9 |\n",
              "| All food | Food away from home | NA | NA | NA | Year-to-date avg. 2025 to avg. 2024     | Percent change |   3.0 |\n",
              "| All food | Food away from home | NA | NA | NA | Annual 2023                             | Percent change |   7.1 |\n",
              "| All food | Food away from home | NA | NA | NA | Annual 2024                             | Percent change |   4.1 |\n",
              "| All food | Food away from home | NA | NA | NA | 20-year historical average              | Percent change |   3.5 |\n",
              "| All food | Food away from home | NA | NA | NA | Lower bound of prediction interval 2025 | Percent change |   3.5 |\n",
              "| All food | Food away from home | NA | NA | NA | Mid point of prediction interval 2025   | Percent change |   3.9 |\n",
              "| All food | Food away from home | NA | NA | NA | Upper bound of prediction interval 2025 | Percent change |   4.2 |\n",
              "| All food | Food away from home | NA | NA | NA | Lower bound of prediction interval 2026 | Percent change |   0.5 |\n",
              "| All food | Food away from home | NA | NA | NA | Mid point of prediction interval 2026   | Percent change |   3.3 |\n",
              "| All food | Food away from home | NA | NA | NA | Upper bound of prediction interval 2026 | Percent change |   6.1 |\n",
              "| All food | Food at home        | NA | NA | NA | Relative importance                     | Percent        |  58.6 |\n",
              "| All food | Food at home        | NA | NA | NA | Month-to-month June 2025 to July 2025   | Percent change |   0.1 |\n",
              "| All food | Food at home        | NA | NA | NA | Year-over-year July 2024 to July 2025   | Percent change |   2.2 |\n",
              "| All food | Food at home        | NA | NA | NA | Year-to-date avg. 2025 to avg. 2024     | Percent change |   1.9 |\n",
              "| ⋮ | ⋮ | ⋮ | ⋮ | ⋮ | ⋮ | ⋮ | ⋮ |\n",
              "| All food | Food at home | Cereals and bakery products | NA | NA | Upper bound of prediction interval 2025 | Percent change |  1.9 |\n",
              "| All food | Food at home | Cereals and bakery products | NA | NA | Lower bound of prediction interval 2026 | Percent change | -6.9 |\n",
              "| All food | Food at home | Cereals and bakery products | NA | NA | Mid point of prediction interval 2026   | Percent change |  0.8 |\n",
              "| All food | Food at home | Cereals and bakery products | NA | NA | Upper bound of prediction interval 2026 | Percent change |  9.5 |\n",
              "| All food | Food at home | Nonalcoholic beverages      | NA | NA | Relative importance                     | Percent        |  6.7 |\n",
              "| All food | Food at home | Nonalcoholic beverages      | NA | NA | Month-to-month June 2025 to July 2025   | Percent change | -0.5 |\n",
              "| All food | Food at home | Nonalcoholic beverages      | NA | NA | Year-over-year July 2024 to July 2025   | Percent change |  3.6 |\n",
              "| All food | Food at home | Nonalcoholic beverages      | NA | NA | Year-to-date avg. 2025 to avg. 2024     | Percent change |  3.0 |\n",
              "| All food | Food at home | Nonalcoholic beverages      | NA | NA | Annual 2023                             | Percent change |  7.0 |\n",
              "| All food | Food at home | Nonalcoholic beverages      | NA | NA | Annual 2024                             | Percent change |  2.0 |\n",
              "| All food | Food at home | Nonalcoholic beverages      | NA | NA | 20-year historical average              | Percent change |  2.3 |\n",
              "| All food | Food at home | Nonalcoholic beverages      | NA | NA | Lower bound of prediction interval 2025 | Percent change |  2.6 |\n",
              "| All food | Food at home | Nonalcoholic beverages      | NA | NA | Mid point of prediction interval 2025   | Percent change |  3.6 |\n",
              "| All food | Food at home | Nonalcoholic beverages      | NA | NA | Upper bound of prediction interval 2025 | Percent change |  4.6 |\n",
              "| All food | Food at home | Nonalcoholic beverages      | NA | NA | Lower bound of prediction interval 2026 | Percent change | -3.6 |\n",
              "| All food | Food at home | Nonalcoholic beverages      | NA | NA | Mid point of prediction interval 2026   | Percent change |  2.4 |\n",
              "| All food | Food at home | Nonalcoholic beverages      | NA | NA | Upper bound of prediction interval 2026 | Percent change |  8.8 |\n",
              "| All food | Food at home | Other foods                 | NA | NA | Relative importance                     | Percent        | 12.8 |\n",
              "| All food | Food at home | Other foods                 | NA | NA | Month-to-month June 2025 to July 2025   | Percent change | -0.2 |\n",
              "| All food | Food at home | Other foods                 | NA | NA | Year-over-year July 2024 to July 2025   | Percent change |  1.0 |\n",
              "| All food | Food at home | Other foods                 | NA | NA | Year-to-date avg. 2025 to avg. 2024     | Percent change |  0.7 |\n",
              "| All food | Food at home | Other foods                 | NA | NA | Annual 2023                             | Percent change |  6.6 |\n",
              "| All food | Food at home | Other foods                 | NA | NA | Annual 2024                             | Percent change |  0.6 |\n",
              "| All food | Food at home | Other foods                 | NA | NA | 20-year historical average              | Percent change |  2.4 |\n",
              "| All food | Food at home | Other foods                 | NA | NA | Lower bound of prediction interval 2025 | Percent change |  0.3 |\n",
              "| All food | Food at home | Other foods                 | NA | NA | Mid point of prediction interval 2025   | Percent change |  1.2 |\n",
              "| All food | Food at home | Other foods                 | NA | NA | Upper bound of prediction interval 2025 | Percent change |  2.2 |\n",
              "| All food | Food at home | Other foods                 | NA | NA | Lower bound of prediction interval 2026 | Percent change | -4.8 |\n",
              "| All food | Food at home | Other foods                 | NA | NA | Mid point of prediction interval 2026   | Percent change |  1.3 |\n",
              "| All food | Food at home | Other foods                 | NA | NA | Upper bound of prediction interval 2026 | Percent change |  8.0 |\n",
              "\n"
            ],
            "text/plain": [
              "    Top-level Aggregate           Mid-level                   Low-level\n",
              "1   All food  NA                  NA                          NA       \n",
              "2   All food  NA                  NA                          NA       \n",
              "3   All food  NA                  NA                          NA       \n",
              "4   All food  NA                  NA                          NA       \n",
              "5   All food  NA                  NA                          NA       \n",
              "6   All food  NA                  NA                          NA       \n",
              "7   All food  NA                  NA                          NA       \n",
              "8   All food  NA                  NA                          NA       \n",
              "9   All food  NA                  NA                          NA       \n",
              "10  All food  NA                  NA                          NA       \n",
              "11  All food  NA                  NA                          NA       \n",
              "12  All food  NA                  NA                          NA       \n",
              "13  All food  NA                  NA                          NA       \n",
              "14  All food  Food away from home NA                          NA       \n",
              "15  All food  Food away from home NA                          NA       \n",
              "16  All food  Food away from home NA                          NA       \n",
              "17  All food  Food away from home NA                          NA       \n",
              "18  All food  Food away from home NA                          NA       \n",
              "19  All food  Food away from home NA                          NA       \n",
              "20  All food  Food away from home NA                          NA       \n",
              "21  All food  Food away from home NA                          NA       \n",
              "22  All food  Food away from home NA                          NA       \n",
              "23  All food  Food away from home NA                          NA       \n",
              "24  All food  Food away from home NA                          NA       \n",
              "25  All food  Food away from home NA                          NA       \n",
              "26  All food  Food away from home NA                          NA       \n",
              "27  All food  Food at home        NA                          NA       \n",
              "28  All food  Food at home        NA                          NA       \n",
              "29  All food  Food at home        NA                          NA       \n",
              "30  All food  Food at home        NA                          NA       \n",
              "⋮   ⋮         ⋮                   ⋮                           ⋮        \n",
              "257 All food  Food at home        Cereals and bakery products NA       \n",
              "258 All food  Food at home        Cereals and bakery products NA       \n",
              "259 All food  Food at home        Cereals and bakery products NA       \n",
              "260 All food  Food at home        Cereals and bakery products NA       \n",
              "261 All food  Food at home        Nonalcoholic beverages      NA       \n",
              "262 All food  Food at home        Nonalcoholic beverages      NA       \n",
              "263 All food  Food at home        Nonalcoholic beverages      NA       \n",
              "264 All food  Food at home        Nonalcoholic beverages      NA       \n",
              "265 All food  Food at home        Nonalcoholic beverages      NA       \n",
              "266 All food  Food at home        Nonalcoholic beverages      NA       \n",
              "267 All food  Food at home        Nonalcoholic beverages      NA       \n",
              "268 All food  Food at home        Nonalcoholic beverages      NA       \n",
              "269 All food  Food at home        Nonalcoholic beverages      NA       \n",
              "270 All food  Food at home        Nonalcoholic beverages      NA       \n",
              "271 All food  Food at home        Nonalcoholic beverages      NA       \n",
              "272 All food  Food at home        Nonalcoholic beverages      NA       \n",
              "273 All food  Food at home        Nonalcoholic beverages      NA       \n",
              "274 All food  Food at home        Other foods                 NA       \n",
              "275 All food  Food at home        Other foods                 NA       \n",
              "276 All food  Food at home        Other foods                 NA       \n",
              "277 All food  Food at home        Other foods                 NA       \n",
              "278 All food  Food at home        Other foods                 NA       \n",
              "279 All food  Food at home        Other foods                 NA       \n",
              "280 All food  Food at home        Other foods                 NA       \n",
              "281 All food  Food at home        Other foods                 NA       \n",
              "282 All food  Food at home        Other foods                 NA       \n",
              "283 All food  Food at home        Other foods                 NA       \n",
              "284 All food  Food at home        Other foods                 NA       \n",
              "285 All food  Food at home        Other foods                 NA       \n",
              "286 All food  Food at home        Other foods                 NA       \n",
              "    Disaggregate Attribute                               Unit           Value\n",
              "1   NA           Relative importance                     Percent        100.0\n",
              "2   NA           Month-to-month June 2025 to July 2025   Percent change   0.2\n",
              "3   NA           Year-over-year July 2024 to July 2025   Percent change   2.9\n",
              "4   NA           Year-to-date avg. 2025 to avg. 2024     Percent change   2.3\n",
              "5   NA           Annual 2023                             Percent change   5.8\n",
              "6   NA           Annual 2024                             Percent change   2.3\n",
              "7   NA           20-year historical average              Percent change   2.9\n",
              "8   NA           Lower bound of prediction interval 2025 Percent change   2.3\n",
              "9   NA           Mid point of prediction interval 2025   Percent change   2.9\n",
              "10  NA           Upper bound of prediction interval 2025 Percent change   3.4\n",
              "11  NA           Lower bound of prediction interval 2026 Percent change  -2.9\n",
              "12  NA           Mid point of prediction interval 2026   Percent change   2.2\n",
              "13  NA           Upper bound of prediction interval 2026 Percent change   7.5\n",
              "14  NA           Relative importance                     Percent         41.4\n",
              "15  NA           Month-to-month June 2025 to July 2025   Percent change   0.3\n",
              "16  NA           Year-over-year July 2024 to July 2025   Percent change   3.9\n",
              "17  NA           Year-to-date avg. 2025 to avg. 2024     Percent change   3.0\n",
              "18  NA           Annual 2023                             Percent change   7.1\n",
              "19  NA           Annual 2024                             Percent change   4.1\n",
              "20  NA           20-year historical average              Percent change   3.5\n",
              "21  NA           Lower bound of prediction interval 2025 Percent change   3.5\n",
              "22  NA           Mid point of prediction interval 2025   Percent change   3.9\n",
              "23  NA           Upper bound of prediction interval 2025 Percent change   4.2\n",
              "24  NA           Lower bound of prediction interval 2026 Percent change   0.5\n",
              "25  NA           Mid point of prediction interval 2026   Percent change   3.3\n",
              "26  NA           Upper bound of prediction interval 2026 Percent change   6.1\n",
              "27  NA           Relative importance                     Percent         58.6\n",
              "28  NA           Month-to-month June 2025 to July 2025   Percent change   0.1\n",
              "29  NA           Year-over-year July 2024 to July 2025   Percent change   2.2\n",
              "30  NA           Year-to-date avg. 2025 to avg. 2024     Percent change   1.9\n",
              "⋮   ⋮            ⋮                                       ⋮              ⋮    \n",
              "257 NA           Upper bound of prediction interval 2025 Percent change  1.9 \n",
              "258 NA           Lower bound of prediction interval 2026 Percent change -6.9 \n",
              "259 NA           Mid point of prediction interval 2026   Percent change  0.8 \n",
              "260 NA           Upper bound of prediction interval 2026 Percent change  9.5 \n",
              "261 NA           Relative importance                     Percent         6.7 \n",
              "262 NA           Month-to-month June 2025 to July 2025   Percent change -0.5 \n",
              "263 NA           Year-over-year July 2024 to July 2025   Percent change  3.6 \n",
              "264 NA           Year-to-date avg. 2025 to avg. 2024     Percent change  3.0 \n",
              "265 NA           Annual 2023                             Percent change  7.0 \n",
              "266 NA           Annual 2024                             Percent change  2.0 \n",
              "267 NA           20-year historical average              Percent change  2.3 \n",
              "268 NA           Lower bound of prediction interval 2025 Percent change  2.6 \n",
              "269 NA           Mid point of prediction interval 2025   Percent change  3.6 \n",
              "270 NA           Upper bound of prediction interval 2025 Percent change  4.6 \n",
              "271 NA           Lower bound of prediction interval 2026 Percent change -3.6 \n",
              "272 NA           Mid point of prediction interval 2026   Percent change  2.4 \n",
              "273 NA           Upper bound of prediction interval 2026 Percent change  8.8 \n",
              "274 NA           Relative importance                     Percent        12.8 \n",
              "275 NA           Month-to-month June 2025 to July 2025   Percent change -0.2 \n",
              "276 NA           Year-over-year July 2024 to July 2025   Percent change  1.0 \n",
              "277 NA           Year-to-date avg. 2025 to avg. 2024     Percent change  0.7 \n",
              "278 NA           Annual 2023                             Percent change  6.6 \n",
              "279 NA           Annual 2024                             Percent change  0.6 \n",
              "280 NA           20-year historical average              Percent change  2.4 \n",
              "281 NA           Lower bound of prediction interval 2025 Percent change  0.3 \n",
              "282 NA           Mid point of prediction interval 2025   Percent change  1.2 \n",
              "283 NA           Upper bound of prediction interval 2025 Percent change  2.2 \n",
              "284 NA           Lower bound of prediction interval 2026 Percent change -4.8 \n",
              "285 NA           Mid point of prediction interval 2026   Percent change  1.3 \n",
              "286 NA           Upper bound of prediction interval 2026 Percent change  8.0 "
            ]
          },
          "metadata": {},
          "output_type": "display_data"
        }
      ],
      "source": [
        "#This block read in the dataset from CSV\n",
        "food_price_indicators <- read_csv(\"/content/data/CPIForecast.csv\")\n",
        "\n",
        "#Display the first few rows to verify it loaded correctly\n",
        "food_price_indicators"
      ]
    },
    {
      "cell_type": "markdown",
      "metadata": {
        "id": "XE0bSr7iJmN7"
      },
      "source": [
        "### Explore Dataset Dimensions  \n",
        "Knowing the dimensions (rows and columns) helps confirm how much data I have to work with.\n",
        "\n",
        "```\n",
        "# This is formatted as code\n",
        "```\n",
        "\n",
        "\n"
      ]
    },
    {
      "cell_type": "code",
      "execution_count": null,
      "metadata": {
        "colab": {
          "base_uri": "https://localhost:8080/",
          "height": 34
        },
        "id": "Y2boywpxnRJg",
        "outputId": "d84b1121-4e69-4f77-8b78-21e7cd269c05",
        "vscode": {
          "languageId": "r"
        }
      },
      "outputs": [
        {
          "data": {
            "text/html": [
              "<style>\n",
              ".list-inline {list-style: none; margin:0; padding: 0}\n",
              ".list-inline>li {display: inline-block}\n",
              ".list-inline>li:not(:last-child)::after {content: \"\\00b7\"; padding: 0 .5ex}\n",
              "</style>\n",
              "<ol class=list-inline><li>286</li><li>8</li></ol>\n"
            ],
            "text/latex": [
              "\\begin{enumerate*}\n",
              "\\item 286\n",
              "\\item 8\n",
              "\\end{enumerate*}\n"
            ],
            "text/markdown": [
              "1. 286\n",
              "2. 8\n",
              "\n",
              "\n"
            ],
            "text/plain": [
              "[1] 286   8"
            ]
          },
          "metadata": {},
          "output_type": "display_data"
        }
      ],
      "source": [
        "# Check number of rows and columns\n",
        "dim(food_price_indicators)"
      ]
    },
    {
      "cell_type": "markdown",
      "metadata": {
        "id": "7vRcILnlKDOA"
      },
      "source": [
        "### Inspect Column Names and Types  \n",
        "Here, I look at the names of each variable (column) to better understand what kinds of information are included.\n"
      ]
    },
    {
      "cell_type": "code",
      "execution_count": null,
      "metadata": {
        "colab": {
          "base_uri": "https://localhost:8080/",
          "height": 34
        },
        "id": "1-jTeEFbnZv7",
        "outputId": "80b05982-c67e-4bc9-a742-edcf71e7b5d2",
        "vscode": {
          "languageId": "r"
        }
      },
      "outputs": [
        {
          "data": {
            "text/html": [
              "<style>\n",
              ".list-inline {list-style: none; margin:0; padding: 0}\n",
              ".list-inline>li {display: inline-block}\n",
              ".list-inline>li:not(:last-child)::after {content: \"\\00b7\"; padding: 0 .5ex}\n",
              "</style>\n",
              "<ol class=list-inline><li>'Top-level'</li><li>'Aggregate'</li><li>'Mid-level'</li><li>'Low-level'</li><li>'Disaggregate'</li><li>'Attribute'</li><li>'Unit'</li><li>'Value'</li></ol>\n"
            ],
            "text/latex": [
              "\\begin{enumerate*}\n",
              "\\item 'Top-level'\n",
              "\\item 'Aggregate'\n",
              "\\item 'Mid-level'\n",
              "\\item 'Low-level'\n",
              "\\item 'Disaggregate'\n",
              "\\item 'Attribute'\n",
              "\\item 'Unit'\n",
              "\\item 'Value'\n",
              "\\end{enumerate*}\n"
            ],
            "text/markdown": [
              "1. 'Top-level'\n",
              "2. 'Aggregate'\n",
              "3. 'Mid-level'\n",
              "4. 'Low-level'\n",
              "5. 'Disaggregate'\n",
              "6. 'Attribute'\n",
              "7. 'Unit'\n",
              "8. 'Value'\n",
              "\n",
              "\n"
            ],
            "text/plain": [
              "[1] \"Top-level\"    \"Aggregate\"    \"Mid-level\"    \"Low-level\"    \"Disaggregate\"\n",
              "[6] \"Attribute\"    \"Unit\"         \"Value\"       "
            ]
          },
          "metadata": {},
          "output_type": "display_data"
        }
      ],
      "source": [
        "# Show column names\n",
        "colnames(food_price_indicators)\n"
      ]
    },
    {
      "cell_type": "markdown",
      "metadata": {
        "id": "NiOm6cxnMFaK"
      },
      "source": [
        "### Focus on eggs\n",
        "I subset the dataset to `Mid-level == \"Eggs\"` so I can answer my core question: how do egg price changes compare with overall food and do eggs look more volatile? This subset contains:\n",
        "- **Observed changes** (Annual 2023, Annual 2024, YoY, YTD),\n",
        "- **Month-to-month** changes,\n",
        "- **A long-run reference** (20-year historical average),\n",
        "- **Forecast ranges** for 2025–2026 (lower/mid/upper bounds).\n",
        "\n",
        "Each row is still one “indicator” for Eggs; the `Attribute` column tells me which slice (e.g., “Annual 2024”, “Lower bound 2026”). The `Unit` column is important: most rows are **“Percent change”**, but **“Relative importance”** is **a percent weight**, not a change. I’ll exclude non-change rows when summarizing volatility.\n"
      ]
    },
    {
      "cell_type": "code",
      "execution_count": null,
      "metadata": {
        "colab": {
          "base_uri": "https://localhost:8080/",
          "height": 506
        },
        "id": "e0OVzlOQntFf",
        "outputId": "ec7d5acf-d898-466a-ab30-341c40dc334c",
        "vscode": {
          "languageId": "r"
        }
      },
      "outputs": [
        {
          "data": {
            "text/html": [
              "<table class=\"dataframe\">\n",
              "<caption>A tibble: 13 × 8</caption>\n",
              "<thead>\n",
              "\t<tr><th scope=col>Top-level</th><th scope=col>Aggregate</th><th scope=col>Mid-level</th><th scope=col>Low-level</th><th scope=col>Disaggregate</th><th scope=col>Attribute</th><th scope=col>Unit</th><th scope=col>Value</th></tr>\n",
              "\t<tr><th scope=col>&lt;chr&gt;</th><th scope=col>&lt;chr&gt;</th><th scope=col>&lt;chr&gt;</th><th scope=col>&lt;chr&gt;</th><th scope=col>&lt;chr&gt;</th><th scope=col>&lt;chr&gt;</th><th scope=col>&lt;chr&gt;</th><th scope=col>&lt;dbl&gt;</th></tr>\n",
              "</thead>\n",
              "<tbody>\n",
              "\t<tr><td>All food</td><td>Food at home</td><td>Eggs</td><td>NA</td><td>NA</td><td>Relative importance                    </td><td>Percent       </td><td>  1.2</td></tr>\n",
              "\t<tr><td>All food</td><td>Food at home</td><td>Eggs</td><td>NA</td><td>NA</td><td>Month-to-month June 2025 to July 2025  </td><td>Percent change</td><td> -3.4</td></tr>\n",
              "\t<tr><td>All food</td><td>Food at home</td><td>Eggs</td><td>NA</td><td>NA</td><td>Year-over-year July 2024 to July 2025  </td><td>Percent change</td><td> 16.4</td></tr>\n",
              "\t<tr><td>All food</td><td>Food at home</td><td>Eggs</td><td>NA</td><td>NA</td><td>Year-to-date avg. 2025 to avg. 2024    </td><td>Percent change</td><td> 34.7</td></tr>\n",
              "\t<tr><td>All food</td><td>Food at home</td><td>Eggs</td><td>NA</td><td>NA</td><td>Annual 2023                            </td><td>Percent change</td><td>  1.4</td></tr>\n",
              "\t<tr><td>All food</td><td>Food at home</td><td>Eggs</td><td>NA</td><td>NA</td><td>Annual 2024                            </td><td>Percent change</td><td>  8.5</td></tr>\n",
              "\t<tr><td>All food</td><td>Food at home</td><td>Eggs</td><td>NA</td><td>NA</td><td>20-year historical average             </td><td>Percent change</td><td>  4.2</td></tr>\n",
              "\t<tr><td>All food</td><td>Food at home</td><td>Eggs</td><td>NA</td><td>NA</td><td>Lower bound of prediction interval 2025</td><td>Percent change</td><td> 17.1</td></tr>\n",
              "\t<tr><td>All food</td><td>Food at home</td><td>Eggs</td><td>NA</td><td>NA</td><td>Mid point of prediction interval 2025  </td><td>Percent change</td><td> 24.4</td></tr>\n",
              "\t<tr><td>All food</td><td>Food at home</td><td>Eggs</td><td>NA</td><td>NA</td><td>Upper bound of prediction interval 2025</td><td>Percent change</td><td> 33.1</td></tr>\n",
              "\t<tr><td>All food</td><td>Food at home</td><td>Eggs</td><td>NA</td><td>NA</td><td>Lower bound of prediction interval 2026</td><td>Percent change</td><td>-40.0</td></tr>\n",
              "\t<tr><td>All food</td><td>Food at home</td><td>Eggs</td><td>NA</td><td>NA</td><td>Mid point of prediction interval 2026  </td><td>Percent change</td><td>-12.4</td></tr>\n",
              "\t<tr><td>All food</td><td>Food at home</td><td>Eggs</td><td>NA</td><td>NA</td><td>Upper bound of prediction interval 2026</td><td>Percent change</td><td> 29.7</td></tr>\n",
              "</tbody>\n",
              "</table>\n"
            ],
            "text/latex": [
              "A tibble: 13 × 8\n",
              "\\begin{tabular}{llllllll}\n",
              " Top-level & Aggregate & Mid-level & Low-level & Disaggregate & Attribute & Unit & Value\\\\\n",
              " <chr> & <chr> & <chr> & <chr> & <chr> & <chr> & <chr> & <dbl>\\\\\n",
              "\\hline\n",
              "\t All food & Food at home & Eggs & NA & NA & Relative importance                     & Percent        &   1.2\\\\\n",
              "\t All food & Food at home & Eggs & NA & NA & Month-to-month June 2025 to July 2025   & Percent change &  -3.4\\\\\n",
              "\t All food & Food at home & Eggs & NA & NA & Year-over-year July 2024 to July 2025   & Percent change &  16.4\\\\\n",
              "\t All food & Food at home & Eggs & NA & NA & Year-to-date avg. 2025 to avg. 2024     & Percent change &  34.7\\\\\n",
              "\t All food & Food at home & Eggs & NA & NA & Annual 2023                             & Percent change &   1.4\\\\\n",
              "\t All food & Food at home & Eggs & NA & NA & Annual 2024                             & Percent change &   8.5\\\\\n",
              "\t All food & Food at home & Eggs & NA & NA & 20-year historical average              & Percent change &   4.2\\\\\n",
              "\t All food & Food at home & Eggs & NA & NA & Lower bound of prediction interval 2025 & Percent change &  17.1\\\\\n",
              "\t All food & Food at home & Eggs & NA & NA & Mid point of prediction interval 2025   & Percent change &  24.4\\\\\n",
              "\t All food & Food at home & Eggs & NA & NA & Upper bound of prediction interval 2025 & Percent change &  33.1\\\\\n",
              "\t All food & Food at home & Eggs & NA & NA & Lower bound of prediction interval 2026 & Percent change & -40.0\\\\\n",
              "\t All food & Food at home & Eggs & NA & NA & Mid point of prediction interval 2026   & Percent change & -12.4\\\\\n",
              "\t All food & Food at home & Eggs & NA & NA & Upper bound of prediction interval 2026 & Percent change &  29.7\\\\\n",
              "\\end{tabular}\n"
            ],
            "text/markdown": [
              "\n",
              "A tibble: 13 × 8\n",
              "\n",
              "| Top-level &lt;chr&gt; | Aggregate &lt;chr&gt; | Mid-level &lt;chr&gt; | Low-level &lt;chr&gt; | Disaggregate &lt;chr&gt; | Attribute &lt;chr&gt; | Unit &lt;chr&gt; | Value &lt;dbl&gt; |\n",
              "|---|---|---|---|---|---|---|---|\n",
              "| All food | Food at home | Eggs | NA | NA | Relative importance                     | Percent        |   1.2 |\n",
              "| All food | Food at home | Eggs | NA | NA | Month-to-month June 2025 to July 2025   | Percent change |  -3.4 |\n",
              "| All food | Food at home | Eggs | NA | NA | Year-over-year July 2024 to July 2025   | Percent change |  16.4 |\n",
              "| All food | Food at home | Eggs | NA | NA | Year-to-date avg. 2025 to avg. 2024     | Percent change |  34.7 |\n",
              "| All food | Food at home | Eggs | NA | NA | Annual 2023                             | Percent change |   1.4 |\n",
              "| All food | Food at home | Eggs | NA | NA | Annual 2024                             | Percent change |   8.5 |\n",
              "| All food | Food at home | Eggs | NA | NA | 20-year historical average              | Percent change |   4.2 |\n",
              "| All food | Food at home | Eggs | NA | NA | Lower bound of prediction interval 2025 | Percent change |  17.1 |\n",
              "| All food | Food at home | Eggs | NA | NA | Mid point of prediction interval 2025   | Percent change |  24.4 |\n",
              "| All food | Food at home | Eggs | NA | NA | Upper bound of prediction interval 2025 | Percent change |  33.1 |\n",
              "| All food | Food at home | Eggs | NA | NA | Lower bound of prediction interval 2026 | Percent change | -40.0 |\n",
              "| All food | Food at home | Eggs | NA | NA | Mid point of prediction interval 2026   | Percent change | -12.4 |\n",
              "| All food | Food at home | Eggs | NA | NA | Upper bound of prediction interval 2026 | Percent change |  29.7 |\n",
              "\n"
            ],
            "text/plain": [
              "   Top-level Aggregate    Mid-level Low-level Disaggregate\n",
              "1  All food  Food at home Eggs      NA        NA          \n",
              "2  All food  Food at home Eggs      NA        NA          \n",
              "3  All food  Food at home Eggs      NA        NA          \n",
              "4  All food  Food at home Eggs      NA        NA          \n",
              "5  All food  Food at home Eggs      NA        NA          \n",
              "6  All food  Food at home Eggs      NA        NA          \n",
              "7  All food  Food at home Eggs      NA        NA          \n",
              "8  All food  Food at home Eggs      NA        NA          \n",
              "9  All food  Food at home Eggs      NA        NA          \n",
              "10 All food  Food at home Eggs      NA        NA          \n",
              "11 All food  Food at home Eggs      NA        NA          \n",
              "12 All food  Food at home Eggs      NA        NA          \n",
              "13 All food  Food at home Eggs      NA        NA          \n",
              "   Attribute                               Unit           Value\n",
              "1  Relative importance                     Percent          1.2\n",
              "2  Month-to-month June 2025 to July 2025   Percent change  -3.4\n",
              "3  Year-over-year July 2024 to July 2025   Percent change  16.4\n",
              "4  Year-to-date avg. 2025 to avg. 2024     Percent change  34.7\n",
              "5  Annual 2023                             Percent change   1.4\n",
              "6  Annual 2024                             Percent change   8.5\n",
              "7  20-year historical average              Percent change   4.2\n",
              "8  Lower bound of prediction interval 2025 Percent change  17.1\n",
              "9  Mid point of prediction interval 2025   Percent change  24.4\n",
              "10 Upper bound of prediction interval 2025 Percent change  33.1\n",
              "11 Lower bound of prediction interval 2026 Percent change -40.0\n",
              "12 Mid point of prediction interval 2026   Percent change -12.4\n",
              "13 Upper bound of prediction interval 2026 Percent change  29.7"
            ]
          },
          "metadata": {},
          "output_type": "display_data"
        }
      ],
      "source": [
        "Egg_indicators <- subset(food_price_indicators, `Mid-level` == \"Eggs\")\n",
        "Egg_indicators"
      ]
    },
    {
      "cell_type": "markdown",
      "metadata": {
        "id": "mGpMgGXPNNmf"
      },
      "source": [
        "This tells me that egg data is small enough to inspect by hand\n"
      ]
    },
    {
      "cell_type": "code",
      "execution_count": null,
      "metadata": {
        "colab": {
          "base_uri": "https://localhost:8080/",
          "height": 34
        },
        "id": "OchDn6CbrRhB",
        "outputId": "3ab80d75-bb7e-40e9-930d-9595fc5335dc",
        "vscode": {
          "languageId": "r"
        }
      },
      "outputs": [
        {
          "data": {
            "text/html": [
              "<style>\n",
              ".list-inline {list-style: none; margin:0; padding: 0}\n",
              ".list-inline>li {display: inline-block}\n",
              ".list-inline>li:not(:last-child)::after {content: \"\\00b7\"; padding: 0 .5ex}\n",
              "</style>\n",
              "<ol class=list-inline><li>13</li><li>8</li></ol>\n"
            ],
            "text/latex": [
              "\\begin{enumerate*}\n",
              "\\item 13\n",
              "\\item 8\n",
              "\\end{enumerate*}\n"
            ],
            "text/markdown": [
              "1. 13\n",
              "2. 8\n",
              "\n",
              "\n"
            ],
            "text/plain": [
              "[1] 13  8"
            ]
          },
          "metadata": {},
          "output_type": "display_data"
        }
      ],
      "source": [
        "dim(Egg_indicators)"
      ]
    },
    {
      "cell_type": "markdown",
      "metadata": {
        "id": "FUaqHNyoNxny"
      },
      "source": [
        "\n",
        "summary() gave me a quick break down on Value."
      ]
    },
    {
      "cell_type": "code",
      "execution_count": null,
      "metadata": {
        "colab": {
          "base_uri": "https://localhost:8080/",
          "height": 260
        },
        "id": "KMyBseaMLKA0",
        "outputId": "1bdccb32-2b02-4623-d546-773bb11ec77b",
        "vscode": {
          "languageId": "r"
        }
      },
      "outputs": [
        {
          "data": {
            "text/plain": [
              "  Top-level          Aggregate          Mid-level          Low-level        \n",
              " Length:13          Length:13          Length:13          Length:13         \n",
              " Class :character   Class :character   Class :character   Class :character  \n",
              " Mode  :character   Mode  :character   Mode  :character   Mode  :character  \n",
              "                                                                            \n",
              "                                                                            \n",
              "                                                                            \n",
              " Disaggregate        Attribute             Unit               Value        \n",
              " Length:13          Length:13          Length:13          Min.   :-40.000  \n",
              " Class :character   Class :character   Class :character   1st Qu.:  1.200  \n",
              " Mode  :character   Mode  :character   Mode  :character   Median :  8.500  \n",
              "                                                          Mean   :  8.838  \n",
              "                                                          3rd Qu.: 24.400  \n",
              "                                                          Max.   : 34.700  "
            ]
          },
          "metadata": {},
          "output_type": "display_data"
        }
      ],
      "source": [
        "summary(Egg_indicators)"
      ]
    },
    {
      "cell_type": "markdown",
      "metadata": {
        "id": "B9r-e7z3ORfw"
      },
      "source": [
        "min() & mix() helps me spot ranges and potential outliers in Value. Gave me a clear idea what am I working with\n"
      ]
    },
    {
      "cell_type": "code",
      "execution_count": null,
      "metadata": {
        "colab": {
          "base_uri": "https://localhost:8080/",
          "height": 52
        },
        "id": "CYe6B21xrUK8",
        "outputId": "11e1c6c0-2bca-42d2-80e4-b76e0e24dd93",
        "vscode": {
          "languageId": "r"
        }
      },
      "outputs": [
        {
          "data": {
            "text/html": [
              "-40"
            ],
            "text/latex": [
              "-40"
            ],
            "text/markdown": [
              "-40"
            ],
            "text/plain": [
              "[1] -40"
            ]
          },
          "metadata": {},
          "output_type": "display_data"
        },
        {
          "data": {
            "text/html": [
              "34.7"
            ],
            "text/latex": [
              "34.7"
            ],
            "text/markdown": [
              "34.7"
            ],
            "text/plain": [
              "[1] 34.7"
            ]
          },
          "metadata": {},
          "output_type": "display_data"
        }
      ],
      "source": [
        "min(Egg_indicators$Value)\n",
        "max(Egg_indicators$Value)"
      ]
    },
    {
      "cell_type": "markdown",
      "metadata": {
        "id": "OxxGeXW0n9zQ"
      },
      "source": [
        "Showing Egg subset here, and we arranged by attribute so that comparing attribute with different years became a lot easier. (lower, mid, upeper bound in 2023 vs 2024)"
      ]
    },
    {
      "cell_type": "code",
      "execution_count": null,
      "metadata": {
        "colab": {
          "base_uri": "https://localhost:8080/",
          "height": 506
        },
        "id": "Wg6UOzzBgeFi",
        "outputId": "310e419a-9f8b-496d-d4eb-cae23cb5e370",
        "vscode": {
          "languageId": "r"
        }
      },
      "outputs": [
        {
          "data": {
            "text/html": [
              "<table class=\"dataframe\">\n",
              "<caption>A tibble: 13 × 8</caption>\n",
              "<thead>\n",
              "\t<tr><th scope=col>Top-level</th><th scope=col>Aggregate</th><th scope=col>Mid-level</th><th scope=col>Low-level</th><th scope=col>Disaggregate</th><th scope=col>Attribute</th><th scope=col>Unit</th><th scope=col>Value</th></tr>\n",
              "\t<tr><th scope=col>&lt;chr&gt;</th><th scope=col>&lt;chr&gt;</th><th scope=col>&lt;chr&gt;</th><th scope=col>&lt;chr&gt;</th><th scope=col>&lt;chr&gt;</th><th scope=col>&lt;chr&gt;</th><th scope=col>&lt;chr&gt;</th><th scope=col>&lt;dbl&gt;</th></tr>\n",
              "</thead>\n",
              "<tbody>\n",
              "\t<tr><td>All food</td><td>Food at home</td><td>Eggs</td><td>NA</td><td>NA</td><td>20-year historical average             </td><td>Percent change</td><td>  4.2</td></tr>\n",
              "\t<tr><td>All food</td><td>Food at home</td><td>Eggs</td><td>NA</td><td>NA</td><td>Annual 2023                            </td><td>Percent change</td><td>  1.4</td></tr>\n",
              "\t<tr><td>All food</td><td>Food at home</td><td>Eggs</td><td>NA</td><td>NA</td><td>Annual 2024                            </td><td>Percent change</td><td>  8.5</td></tr>\n",
              "\t<tr><td>All food</td><td>Food at home</td><td>Eggs</td><td>NA</td><td>NA</td><td>Lower bound of prediction interval 2025</td><td>Percent change</td><td> 17.1</td></tr>\n",
              "\t<tr><td>All food</td><td>Food at home</td><td>Eggs</td><td>NA</td><td>NA</td><td>Lower bound of prediction interval 2026</td><td>Percent change</td><td>-40.0</td></tr>\n",
              "\t<tr><td>All food</td><td>Food at home</td><td>Eggs</td><td>NA</td><td>NA</td><td>Mid point of prediction interval 2025  </td><td>Percent change</td><td> 24.4</td></tr>\n",
              "\t<tr><td>All food</td><td>Food at home</td><td>Eggs</td><td>NA</td><td>NA</td><td>Mid point of prediction interval 2026  </td><td>Percent change</td><td>-12.4</td></tr>\n",
              "\t<tr><td>All food</td><td>Food at home</td><td>Eggs</td><td>NA</td><td>NA</td><td>Month-to-month June 2025 to July 2025  </td><td>Percent change</td><td> -3.4</td></tr>\n",
              "\t<tr><td>All food</td><td>Food at home</td><td>Eggs</td><td>NA</td><td>NA</td><td>Relative importance                    </td><td>Percent       </td><td>  1.2</td></tr>\n",
              "\t<tr><td>All food</td><td>Food at home</td><td>Eggs</td><td>NA</td><td>NA</td><td>Upper bound of prediction interval 2025</td><td>Percent change</td><td> 33.1</td></tr>\n",
              "\t<tr><td>All food</td><td>Food at home</td><td>Eggs</td><td>NA</td><td>NA</td><td>Upper bound of prediction interval 2026</td><td>Percent change</td><td> 29.7</td></tr>\n",
              "\t<tr><td>All food</td><td>Food at home</td><td>Eggs</td><td>NA</td><td>NA</td><td>Year-over-year July 2024 to July 2025  </td><td>Percent change</td><td> 16.4</td></tr>\n",
              "\t<tr><td>All food</td><td>Food at home</td><td>Eggs</td><td>NA</td><td>NA</td><td>Year-to-date avg. 2025 to avg. 2024    </td><td>Percent change</td><td> 34.7</td></tr>\n",
              "</tbody>\n",
              "</table>\n"
            ],
            "text/latex": [
              "A tibble: 13 × 8\n",
              "\\begin{tabular}{llllllll}\n",
              " Top-level & Aggregate & Mid-level & Low-level & Disaggregate & Attribute & Unit & Value\\\\\n",
              " <chr> & <chr> & <chr> & <chr> & <chr> & <chr> & <chr> & <dbl>\\\\\n",
              "\\hline\n",
              "\t All food & Food at home & Eggs & NA & NA & 20-year historical average              & Percent change &   4.2\\\\\n",
              "\t All food & Food at home & Eggs & NA & NA & Annual 2023                             & Percent change &   1.4\\\\\n",
              "\t All food & Food at home & Eggs & NA & NA & Annual 2024                             & Percent change &   8.5\\\\\n",
              "\t All food & Food at home & Eggs & NA & NA & Lower bound of prediction interval 2025 & Percent change &  17.1\\\\\n",
              "\t All food & Food at home & Eggs & NA & NA & Lower bound of prediction interval 2026 & Percent change & -40.0\\\\\n",
              "\t All food & Food at home & Eggs & NA & NA & Mid point of prediction interval 2025   & Percent change &  24.4\\\\\n",
              "\t All food & Food at home & Eggs & NA & NA & Mid point of prediction interval 2026   & Percent change & -12.4\\\\\n",
              "\t All food & Food at home & Eggs & NA & NA & Month-to-month June 2025 to July 2025   & Percent change &  -3.4\\\\\n",
              "\t All food & Food at home & Eggs & NA & NA & Relative importance                     & Percent        &   1.2\\\\\n",
              "\t All food & Food at home & Eggs & NA & NA & Upper bound of prediction interval 2025 & Percent change &  33.1\\\\\n",
              "\t All food & Food at home & Eggs & NA & NA & Upper bound of prediction interval 2026 & Percent change &  29.7\\\\\n",
              "\t All food & Food at home & Eggs & NA & NA & Year-over-year July 2024 to July 2025   & Percent change &  16.4\\\\\n",
              "\t All food & Food at home & Eggs & NA & NA & Year-to-date avg. 2025 to avg. 2024     & Percent change &  34.7\\\\\n",
              "\\end{tabular}\n"
            ],
            "text/markdown": [
              "\n",
              "A tibble: 13 × 8\n",
              "\n",
              "| Top-level &lt;chr&gt; | Aggregate &lt;chr&gt; | Mid-level &lt;chr&gt; | Low-level &lt;chr&gt; | Disaggregate &lt;chr&gt; | Attribute &lt;chr&gt; | Unit &lt;chr&gt; | Value &lt;dbl&gt; |\n",
              "|---|---|---|---|---|---|---|---|\n",
              "| All food | Food at home | Eggs | NA | NA | 20-year historical average              | Percent change |   4.2 |\n",
              "| All food | Food at home | Eggs | NA | NA | Annual 2023                             | Percent change |   1.4 |\n",
              "| All food | Food at home | Eggs | NA | NA | Annual 2024                             | Percent change |   8.5 |\n",
              "| All food | Food at home | Eggs | NA | NA | Lower bound of prediction interval 2025 | Percent change |  17.1 |\n",
              "| All food | Food at home | Eggs | NA | NA | Lower bound of prediction interval 2026 | Percent change | -40.0 |\n",
              "| All food | Food at home | Eggs | NA | NA | Mid point of prediction interval 2025   | Percent change |  24.4 |\n",
              "| All food | Food at home | Eggs | NA | NA | Mid point of prediction interval 2026   | Percent change | -12.4 |\n",
              "| All food | Food at home | Eggs | NA | NA | Month-to-month June 2025 to July 2025   | Percent change |  -3.4 |\n",
              "| All food | Food at home | Eggs | NA | NA | Relative importance                     | Percent        |   1.2 |\n",
              "| All food | Food at home | Eggs | NA | NA | Upper bound of prediction interval 2025 | Percent change |  33.1 |\n",
              "| All food | Food at home | Eggs | NA | NA | Upper bound of prediction interval 2026 | Percent change |  29.7 |\n",
              "| All food | Food at home | Eggs | NA | NA | Year-over-year July 2024 to July 2025   | Percent change |  16.4 |\n",
              "| All food | Food at home | Eggs | NA | NA | Year-to-date avg. 2025 to avg. 2024     | Percent change |  34.7 |\n",
              "\n"
            ],
            "text/plain": [
              "   Top-level Aggregate    Mid-level Low-level Disaggregate\n",
              "1  All food  Food at home Eggs      NA        NA          \n",
              "2  All food  Food at home Eggs      NA        NA          \n",
              "3  All food  Food at home Eggs      NA        NA          \n",
              "4  All food  Food at home Eggs      NA        NA          \n",
              "5  All food  Food at home Eggs      NA        NA          \n",
              "6  All food  Food at home Eggs      NA        NA          \n",
              "7  All food  Food at home Eggs      NA        NA          \n",
              "8  All food  Food at home Eggs      NA        NA          \n",
              "9  All food  Food at home Eggs      NA        NA          \n",
              "10 All food  Food at home Eggs      NA        NA          \n",
              "11 All food  Food at home Eggs      NA        NA          \n",
              "12 All food  Food at home Eggs      NA        NA          \n",
              "13 All food  Food at home Eggs      NA        NA          \n",
              "   Attribute                               Unit           Value\n",
              "1  20-year historical average              Percent change   4.2\n",
              "2  Annual 2023                             Percent change   1.4\n",
              "3  Annual 2024                             Percent change   8.5\n",
              "4  Lower bound of prediction interval 2025 Percent change  17.1\n",
              "5  Lower bound of prediction interval 2026 Percent change -40.0\n",
              "6  Mid point of prediction interval 2025   Percent change  24.4\n",
              "7  Mid point of prediction interval 2026   Percent change -12.4\n",
              "8  Month-to-month June 2025 to July 2025   Percent change  -3.4\n",
              "9  Relative importance                     Percent          1.2\n",
              "10 Upper bound of prediction interval 2025 Percent change  33.1\n",
              "11 Upper bound of prediction interval 2026 Percent change  29.7\n",
              "12 Year-over-year July 2024 to July 2025   Percent change  16.4\n",
              "13 Year-to-date avg. 2025 to avg. 2024     Percent change  34.7"
            ]
          },
          "metadata": {},
          "output_type": "display_data"
        }
      ],
      "source": [
        "Egg_indicators %>%\n",
        "  arrange(Attribute)"
      ]
    },
    {
      "cell_type": "markdown",
      "metadata": {
        "id": "Tlhu2kIkPc7Q"
      },
      "source": [
        "### Compare Eggs to Other Food Categories (2023–2024)  \n",
        "\n",
        "To see if eggs behave differently than other staples, I build a grouped barplot of annual percent changes in 2023 and 2024 for Eggs, Pork, Fresh Vegetables, Fresh Fruit, and Beef & Veal.  \n",
        "\n",
        "- This allows me to visually compare eggs directly to substitutes (pork, beef) and complements (fresh produce).  \n",
        "- Grouped bars help highlight how much larger or smaller egg price changes are compared to other foods in the same time frame.  \n"
      ]
    },
    {
      "cell_type": "code",
      "execution_count": null,
      "metadata": {
        "colab": {
          "base_uri": "https://localhost:8080/",
          "height": 437
        },
        "id": "yUTrW9Qkgll5",
        "outputId": "8e28c70b-f18c-4018-ddc6-0145a7e49d13",
        "vscode": {
          "languageId": "r"
        }
      },
      "outputs": [
        {
          "data": {
            "image/png": "[encoded data removed]",
            "text/plain": [
              "Plot with title “Percent Change: Eggs vs Pork, Veg, Fruit, Beef 2023–2024”"
            ]
          },
          "metadata": {
            "image/png": {
              "height": 420,
              "width": 420
            }
          },
          "output_type": "display_data"
        }
      ],
      "source": [
        "plot_df <- data.frame(\n",
        "  Attribute = c(\"Annual 2023\", \"Annual 2024\"),\n",
        "  Eggs       = c(1.4, 8.5),\n",
        "  Pork       = c(-1.2, 1.3),\n",
        "  FreshVeg   = c(0.9, 1),\n",
        "  FreshFruit = c(0.7, 0.4),\n",
        "  Beef_and_veal = c(3.6, 5.4)\n",
        ")\n",
        "\n",
        "mat <- t(as.matrix(plot_df[, c(\"Eggs\", \"Pork\", \"FreshVeg\", \"FreshFruit\", \"Beef_and_veal\")]))\n",
        "colnames(mat) <- plot_df$Attribute\n",
        "# Grouped barplot\n",
        "barplot(\n",
        "  mat, beside = TRUE,\n",
        "  col = c(\"orange\", \"pink\", \"green\", \"purple\", \"red\"),\n",
        "  ylab = \"Percent Change\",\n",
        "  main = \"Percent Change: Eggs vs Pork, Veg, Fruit, Beef 2023–2024\",\n",
        "  # ylim = c(0, 35)\n",
        ")\n",
        "\n",
        "legend(\"topleft\",  legend = c(\"Eggs\", \"Pork\", \"Fresh Veg\", \"Fresh Fruit\", \"Beef and veal\"),\n",
        "       fill = c(\"orange\", \"pink\", \"green\", \"purple\", \"red\"))\n",
        "\n",
        "\n",
        "\n"
      ]
    },
    {
      "cell_type": "markdown",
      "metadata": {
        "id": "fBCjm5JAQD93"
      },
      "source": [
        "### Prediction comparison 2025 vs 2026\n",
        "\n",
        "To compare 2025 vs 2026 forecasts across categories, I plot the midpoint with error bars (lower/middle/upper bounds). This makes it easy to see both the expected change and the forecast uncertainty.\n"
      ]
    },
    {
      "cell_type": "code",
      "execution_count": null,
      "metadata": {
        "colab": {
          "base_uri": "https://localhost:8080/",
          "height": 437
        },
        "id": "1HP5wIvg2SZY",
        "outputId": "6d93abce-7b32-4a4f-fbb4-7c16f175422c",
        "vscode": {
          "languageId": "r"
        }
      },
      "outputs": [
        {
          "data": {
            "image/png": "[encoded data removed]",
            "text/plain": [
              "Plot with title “Annual Percent Change with Error Bars: 2025 vs 2026”"
            ]
          },
          "metadata": {
            "image/png": {
              "height": 420,
              "width": 420
            }
          },
          "output_type": "display_data"
        }
      ],
      "source": [
        "Category <- c(\"Eggs\", \"Pork\", \"FreshVeg\", \"FreshFruit\", \"Beef\")\n",
        "\n",
        "# 2025 bounds (Lower, Mid, Upper)\n",
        "L25 <- c(17.1, -0.5, -2.3, -1.4, 7.2)\n",
        "M25 <- c(24.4, 1.6, -0.8, 0.3, 9.9)\n",
        "U25 <- c(33.1, 3.9, 0.8, 2.1, 12.9)\n",
        "\n",
        "# 2026 bounds (Lower, Mid, Upper)\n",
        "L26 <- c(-40, -9.9, -2.5, -10.7, -8.7)\n",
        "M26 <- c(-12.4, 1.4, 2.4, -2.7, 4.4)\n",
        "U26 <- c(29.7, 14.5, 7.4, 6.3, 19.4)\n",
        "\n",
        "# Compute x-positions for grouped points\n",
        "n <- length(Category)\n",
        "x_base <- seq_len(n)     # 1..n category anchors\n",
        "offset <- 0.15           # horizontal spacing within each category group\n",
        "x25 <- x_base - offset   # positions for 2025\n",
        "x26 <- x_base + offset   # positions for 2026\n",
        "\n",
        "y_min <- min(L25, L26)\n",
        "y_max <- max(U25, U26)\n",
        "\n",
        "plot(\n",
        "  x = NA, y = NA,\n",
        "  xlim = c(0.5, n + 0.5),\n",
        "  ylim = c(y_min, y_max),\n",
        "  xaxt = \"n\",\n",
        "  xlab = \"Food Category\",\n",
        "  ylab = \"Percent Change (%)\",\n",
        "  main = \"Annual Percent Change with Error Bars: 2025 vs 2026\"\n",
        ")\n",
        "\n",
        "# X-axis labels\n",
        "axis(1, at = x_base, labels = Category)\n",
        "\n",
        "# horizontal grid\n",
        "abline(h = pretty(c(y_min, y_max)), col = \"grey90\", lty = 1)\n",
        "\n",
        "# Draw error bars\n",
        "arrows(x25, L25, x25, U25, angle = 90, code = 3, length = 0.05, col = \"blue\", lwd = 2)\n",
        "arrows(x26, L26, x26, U26, angle = 90, code = 3, length = 0.05, col = \"red\",    lwd = 2)\n",
        "\n",
        "# Draw mid points\n",
        "points(x25, M25, pch = 19, col = \"blue\", cex = 1.2)\n",
        "points(x26, M26, pch = 19, col = \"red\",    cex = 1.2)\n",
        "\n",
        "legend(\n",
        "  \"topleft\",\n",
        "  legend = c(\"2025\", \"2026\"),\n",
        "  pch = 19,\n",
        "  col = c(\"blue\", \"red\"),\n",
        "  pt.cex = 1.2,\n",
        "  bty = \"n\"\n",
        ")\n",
        "\n",
        "box()\n"
      ]
    },
    {
      "cell_type": "markdown",
      "metadata": {
        "id": "Zfm-ElzOQ1D2"
      },
      "source": [
        "#Conclusion\n",
        "\n",
        "The egg prices are more volatile than overall food (Pork, Fresh Vegetables, Fresh Fruit, Beef & Veal) CPI from 2023 to 2024, eggs spiked especially more than other categories in 2024, 8% in total, and prediction for 2025–2026 show much wider uncertainty bands, reinforcing their role as the most unstable category among the foods compared. It is also really superising that egg prices predicted to have a significant drop in 2026.\n",
        "\n",
        "The more I explore this meta data, I am getting more curious about did COVID-era supply chain disruptions or tariffs on feed imports contribute to volatility, and how might such shocks continue to shape prices? To answer these questions, I might need to dive deeper in to food supply chain disruption data post 2022, and food import/export data for feed. To see how much egg price spikes can be tied to disruptions like disease outbreaks, tariffs, or global trade dependencies, then we’re not just describing volatility—we’re identifying its potential causes."
      ]
    }
  ],
  "metadata": {
    "colab": {
      "provenance": []
    },
    "kernelspec": {
      "display_name": "R",
      "name": "ir"
    },
    "language_info": {
      "name": "R"
    }
  },
  "nbformat": 4,
  "nbformat_minor": 0
}
